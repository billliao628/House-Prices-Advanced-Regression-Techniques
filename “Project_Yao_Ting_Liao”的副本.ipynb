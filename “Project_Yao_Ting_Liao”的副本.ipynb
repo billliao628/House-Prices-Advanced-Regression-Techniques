{
  "nbformat": 4,
  "nbformat_minor": 0,
  "metadata": {
    "colab": {
      "name": "“Project - Yao-Ting Liao”的副本",
      "version": "0.3.2",
      "provenance": [],
      "collapsed_sections": [],
      "include_colab_link": true
    },
    "kernelspec": {
      "name": "python3",
      "display_name": "Python 3"
    }
  },
  "cells": [
    {
      "cell_type": "markdown",
      "metadata": {
        "id": "view-in-github",
        "colab_type": "text"
      },
      "source": [
        "<a href=\"https://colab.research.google.com/github/billliao628/House-Prices-Advanced-Regression-Techniques/blob/master/%E2%80%9CProject_Yao_Ting_Liao%E2%80%9D%E7%9A%84%E5%89%AF%E6%9C%AC.ipynb\" target=\"_parent\"><img src=\"https://colab.research.google.com/assets/colab-badge.svg\" alt=\"Open In Colab\"/></a>"
      ]
    },
    {
      "metadata": {
        "id": "j-A94bbfC3rf",
        "colab_type": "text"
      },
      "cell_type": "markdown",
      "source": [
        "# Kaggle Competition-House Prices: Advanced RegressionTechniques\n"
      ]
    },
    {
      "metadata": {
        "id": "ZOSiy_Ud2sFG",
        "colab_type": "text"
      },
      "cell_type": "markdown",
      "source": [
        "# Exploratory Data Analysis"
      ]
    },
    {
      "metadata": {
        "id": "uAsJUHBFYpCE",
        "colab_type": "code",
        "colab": {}
      },
      "cell_type": "code",
      "source": [
        "# load the necessary libraries\n",
        "\n",
        "# pandas\n",
        "import pandas as pd\n",
        "from pandas import Series,DataFrame\n",
        "\n",
        "# visualization\n",
        "import seaborn as sns\n",
        "\n",
        "# to download files from Colab to our computer\n",
        "from google.colab import files"
      ],
      "execution_count": 0,
      "outputs": []
    },
    {
      "metadata": {
        "id": "9NXG1Sk6Ytu4",
        "colab_type": "code",
        "colab": {}
      },
      "cell_type": "code",
      "source": [
        "# get train & test csv files as a DataFrame\n",
        "train_df = pd.read_csv(\"https://s3.amazonaws.com/it4ba/Kaggle/train.csv\")\n",
        "test_df    = pd.read_csv(\"https://s3.amazonaws.com/it4ba/Kaggle/test.csv\")"
      ],
      "execution_count": 0,
      "outputs": []
    },
    {
      "metadata": {
        "id": "tRZ9rWofYuoD",
        "colab_type": "code",
        "outputId": "1eed6c12-8363-4f08-b172-b377e87e8e6e",
        "colab": {
          "base_uri": "https://localhost:8080/",
          "height": 253
        }
      },
      "cell_type": "code",
      "source": [
        "# preview the data\n",
        "train_df.head()"
      ],
      "execution_count": 0,
      "outputs": [
        {
          "output_type": "execute_result",
          "data": {
            "text/html": [
              "<div>\n",
              "<style scoped>\n",
              "    .dataframe tbody tr th:only-of-type {\n",
              "        vertical-align: middle;\n",
              "    }\n",
              "\n",
              "    .dataframe tbody tr th {\n",
              "        vertical-align: top;\n",
              "    }\n",
              "\n",
              "    .dataframe thead th {\n",
              "        text-align: right;\n",
              "    }\n",
              "</style>\n",
              "<table border=\"1\" class=\"dataframe\">\n",
              "  <thead>\n",
              "    <tr style=\"text-align: right;\">\n",
              "      <th></th>\n",
              "      <th>Id</th>\n",
              "      <th>MSSubClass</th>\n",
              "      <th>MSZoning</th>\n",
              "      <th>LotFrontage</th>\n",
              "      <th>LotArea</th>\n",
              "      <th>Street</th>\n",
              "      <th>Alley</th>\n",
              "      <th>LotShape</th>\n",
              "      <th>LandContour</th>\n",
              "      <th>Utilities</th>\n",
              "      <th>...</th>\n",
              "      <th>PoolArea</th>\n",
              "      <th>PoolQC</th>\n",
              "      <th>Fence</th>\n",
              "      <th>MiscFeature</th>\n",
              "      <th>MiscVal</th>\n",
              "      <th>MoSold</th>\n",
              "      <th>YrSold</th>\n",
              "      <th>SaleType</th>\n",
              "      <th>SaleCondition</th>\n",
              "      <th>SalePrice</th>\n",
              "    </tr>\n",
              "  </thead>\n",
              "  <tbody>\n",
              "    <tr>\n",
              "      <th>0</th>\n",
              "      <td>1</td>\n",
              "      <td>60</td>\n",
              "      <td>RL</td>\n",
              "      <td>65.0</td>\n",
              "      <td>8450</td>\n",
              "      <td>Pave</td>\n",
              "      <td>NaN</td>\n",
              "      <td>Reg</td>\n",
              "      <td>Lvl</td>\n",
              "      <td>AllPub</td>\n",
              "      <td>...</td>\n",
              "      <td>0</td>\n",
              "      <td>NaN</td>\n",
              "      <td>NaN</td>\n",
              "      <td>NaN</td>\n",
              "      <td>0</td>\n",
              "      <td>2</td>\n",
              "      <td>2008</td>\n",
              "      <td>WD</td>\n",
              "      <td>Normal</td>\n",
              "      <td>208500</td>\n",
              "    </tr>\n",
              "    <tr>\n",
              "      <th>1</th>\n",
              "      <td>2</td>\n",
              "      <td>20</td>\n",
              "      <td>RL</td>\n",
              "      <td>80.0</td>\n",
              "      <td>9600</td>\n",
              "      <td>Pave</td>\n",
              "      <td>NaN</td>\n",
              "      <td>Reg</td>\n",
              "      <td>Lvl</td>\n",
              "      <td>AllPub</td>\n",
              "      <td>...</td>\n",
              "      <td>0</td>\n",
              "      <td>NaN</td>\n",
              "      <td>NaN</td>\n",
              "      <td>NaN</td>\n",
              "      <td>0</td>\n",
              "      <td>5</td>\n",
              "      <td>2007</td>\n",
              "      <td>WD</td>\n",
              "      <td>Normal</td>\n",
              "      <td>181500</td>\n",
              "    </tr>\n",
              "    <tr>\n",
              "      <th>2</th>\n",
              "      <td>3</td>\n",
              "      <td>60</td>\n",
              "      <td>RL</td>\n",
              "      <td>68.0</td>\n",
              "      <td>11250</td>\n",
              "      <td>Pave</td>\n",
              "      <td>NaN</td>\n",
              "      <td>IR1</td>\n",
              "      <td>Lvl</td>\n",
              "      <td>AllPub</td>\n",
              "      <td>...</td>\n",
              "      <td>0</td>\n",
              "      <td>NaN</td>\n",
              "      <td>NaN</td>\n",
              "      <td>NaN</td>\n",
              "      <td>0</td>\n",
              "      <td>9</td>\n",
              "      <td>2008</td>\n",
              "      <td>WD</td>\n",
              "      <td>Normal</td>\n",
              "      <td>223500</td>\n",
              "    </tr>\n",
              "    <tr>\n",
              "      <th>3</th>\n",
              "      <td>4</td>\n",
              "      <td>70</td>\n",
              "      <td>RL</td>\n",
              "      <td>60.0</td>\n",
              "      <td>9550</td>\n",
              "      <td>Pave</td>\n",
              "      <td>NaN</td>\n",
              "      <td>IR1</td>\n",
              "      <td>Lvl</td>\n",
              "      <td>AllPub</td>\n",
              "      <td>...</td>\n",
              "      <td>0</td>\n",
              "      <td>NaN</td>\n",
              "      <td>NaN</td>\n",
              "      <td>NaN</td>\n",
              "      <td>0</td>\n",
              "      <td>2</td>\n",
              "      <td>2006</td>\n",
              "      <td>WD</td>\n",
              "      <td>Abnorml</td>\n",
              "      <td>140000</td>\n",
              "    </tr>\n",
              "    <tr>\n",
              "      <th>4</th>\n",
              "      <td>5</td>\n",
              "      <td>60</td>\n",
              "      <td>RL</td>\n",
              "      <td>84.0</td>\n",
              "      <td>14260</td>\n",
              "      <td>Pave</td>\n",
              "      <td>NaN</td>\n",
              "      <td>IR1</td>\n",
              "      <td>Lvl</td>\n",
              "      <td>AllPub</td>\n",
              "      <td>...</td>\n",
              "      <td>0</td>\n",
              "      <td>NaN</td>\n",
              "      <td>NaN</td>\n",
              "      <td>NaN</td>\n",
              "      <td>0</td>\n",
              "      <td>12</td>\n",
              "      <td>2008</td>\n",
              "      <td>WD</td>\n",
              "      <td>Normal</td>\n",
              "      <td>250000</td>\n",
              "    </tr>\n",
              "  </tbody>\n",
              "</table>\n",
              "<p>5 rows × 81 columns</p>\n",
              "</div>"
            ],
            "text/plain": [
              "   Id  MSSubClass MSZoning  LotFrontage  LotArea Street Alley LotShape  \\\n",
              "0   1          60       RL         65.0     8450   Pave   NaN      Reg   \n",
              "1   2          20       RL         80.0     9600   Pave   NaN      Reg   \n",
              "2   3          60       RL         68.0    11250   Pave   NaN      IR1   \n",
              "3   4          70       RL         60.0     9550   Pave   NaN      IR1   \n",
              "4   5          60       RL         84.0    14260   Pave   NaN      IR1   \n",
              "\n",
              "  LandContour Utilities    ...     PoolArea PoolQC Fence MiscFeature MiscVal  \\\n",
              "0         Lvl    AllPub    ...            0    NaN   NaN         NaN       0   \n",
              "1         Lvl    AllPub    ...            0    NaN   NaN         NaN       0   \n",
              "2         Lvl    AllPub    ...            0    NaN   NaN         NaN       0   \n",
              "3         Lvl    AllPub    ...            0    NaN   NaN         NaN       0   \n",
              "4         Lvl    AllPub    ...            0    NaN   NaN         NaN       0   \n",
              "\n",
              "  MoSold YrSold  SaleType  SaleCondition  SalePrice  \n",
              "0      2   2008        WD         Normal     208500  \n",
              "1      5   2007        WD         Normal     181500  \n",
              "2      9   2008        WD         Normal     223500  \n",
              "3      2   2006        WD        Abnorml     140000  \n",
              "4     12   2008        WD         Normal     250000  \n",
              "\n",
              "[5 rows x 81 columns]"
            ]
          },
          "metadata": {
            "tags": []
          },
          "execution_count": 3
        }
      ]
    },
    {
      "metadata": {
        "id": "ieQduznvbHVb",
        "colab_type": "code",
        "outputId": "b30fa321-e512-4ea6-c209-92b948639e9d",
        "colab": {
          "base_uri": "https://localhost:8080/",
          "height": 34
        }
      },
      "cell_type": "code",
      "source": [
        "#check the shape of train data\n",
        "train_df.shape\n"
      ],
      "execution_count": 0,
      "outputs": [
        {
          "output_type": "execute_result",
          "data": {
            "text/plain": [
              "(1460, 81)"
            ]
          },
          "metadata": {
            "tags": []
          },
          "execution_count": 4
        }
      ]
    },
    {
      "metadata": {
        "id": "QTfM69EmdLK6",
        "colab_type": "code",
        "outputId": "12402ba4-aa00-46af-f829-7b17f70ef7a3",
        "colab": {
          "base_uri": "https://localhost:8080/",
          "height": 34
        }
      },
      "cell_type": "code",
      "source": [
        "#check the shape of test data\n",
        "test_df.shape"
      ],
      "execution_count": 0,
      "outputs": [
        {
          "output_type": "execute_result",
          "data": {
            "text/plain": [
              "(1459, 80)"
            ]
          },
          "metadata": {
            "tags": []
          },
          "execution_count": 5
        }
      ]
    },
    {
      "metadata": {
        "id": "TwTt4t7gdPhE",
        "colab_type": "code",
        "outputId": "0d49739b-c1f0-45a7-f822-02cfa591eb23",
        "colab": {
          "base_uri": "https://localhost:8080/",
          "height": 34
        }
      },
      "cell_type": "code",
      "source": [
        "#we see that train data has one more column, so check which column\n",
        "print(set(train_df.columns)-set(test_df.columns))\n"
      ],
      "execution_count": 0,
      "outputs": [
        {
          "output_type": "stream",
          "text": [
            "{'SalePrice'}\n"
          ],
          "name": "stdout"
        }
      ]
    },
    {
      "metadata": {
        "id": "T_q3ANUi14lM",
        "colab_type": "text"
      },
      "cell_type": "markdown",
      "source": [
        "This is imoportant information to know since we need to remember to drop SalePrice later own before ridge regression "
      ]
    },
    {
      "metadata": {
        "id": "6ny1EcuvnK2g",
        "colab_type": "code",
        "outputId": "55bd33ad-4b97-4d61-8038-d8185b9bff14",
        "colab": {
          "base_uri": "https://localhost:8080/",
          "height": 425
        }
      },
      "cell_type": "code",
      "source": [
        "# create heatmap to see the relationship(correlation) between variables in train data set\n",
        "\n",
        "sns.heatmap(train_df.corr(), vmax=1, cmap='RdYlGn', linewidths=0.5)"
      ],
      "execution_count": 0,
      "outputs": [
        {
          "output_type": "execute_result",
          "data": {
            "text/plain": [
              "<matplotlib.axes._subplots.AxesSubplot at 0x7ff7bf52d588>"
            ]
          },
          "metadata": {
            "tags": []
          },
          "execution_count": 7
        },
        {
          "output_type": "display_data",
          "data": {
            "image/png": "[encoded data removed]",
            "text/plain": [
              "<matplotlib.figure.Figure at 0x7ff7bf55bd68>"
            ]
          },
          "metadata": {
            "tags": []
          }
        }
      ]
    },
    {
      "metadata": {
        "id": "NaeARHgYnQQ_",
        "colab_type": "text"
      },
      "cell_type": "markdown",
      "source": [
        "From the heatmap, we see that some variables such as OverallQual, TotalBsmtSF, 1stFlrSF have the most correlation with SalePrice\n",
        "\n",
        "\n"
      ]
    },
    {
      "metadata": {
        "id": "lfX9dniD4SNA",
        "colab_type": "code",
        "outputId": "19c5e633-aec8-4147-f841-5bf0a27661a5",
        "colab": {
          "base_uri": "https://localhost:8080/",
          "height": 680
        }
      },
      "cell_type": "code",
      "source": [
        "# Do correlation to see if there is difference \n",
        "train_df.corr()['SalePrice'].abs().sort_values(ascending=False)"
      ],
      "execution_count": 0,
      "outputs": [
        {
          "output_type": "execute_result",
          "data": {
            "text/plain": [
              "SalePrice        1.000000\n",
              "OverallQual      0.790982\n",
              "GrLivArea        0.708624\n",
              "GarageCars       0.640409\n",
              "GarageArea       0.623431\n",
              "TotalBsmtSF      0.613581\n",
              "1stFlrSF         0.605852\n",
              "FullBath         0.560664\n",
              "TotRmsAbvGrd     0.533723\n",
              "YearBuilt        0.522897\n",
              "YearRemodAdd     0.507101\n",
              "GarageYrBlt      0.486362\n",
              "MasVnrArea       0.477493\n",
              "Fireplaces       0.466929\n",
              "BsmtFinSF1       0.386420\n",
              "LotFrontage      0.351799\n",
              "WoodDeckSF       0.324413\n",
              "2ndFlrSF         0.319334\n",
              "OpenPorchSF      0.315856\n",
              "HalfBath         0.284108\n",
              "LotArea          0.263843\n",
              "BsmtFullBath     0.227122\n",
              "BsmtUnfSF        0.214479\n",
              "BedroomAbvGr     0.168213\n",
              "KitchenAbvGr     0.135907\n",
              "EnclosedPorch    0.128578\n",
              "ScreenPorch      0.111447\n",
              "PoolArea         0.092404\n",
              "MSSubClass       0.084284\n",
              "OverallCond      0.077856\n",
              "MoSold           0.046432\n",
              "3SsnPorch        0.044584\n",
              "YrSold           0.028923\n",
              "LowQualFinSF     0.025606\n",
              "Id               0.021917\n",
              "MiscVal          0.021190\n",
              "BsmtHalfBath     0.016844\n",
              "BsmtFinSF2       0.011378\n",
              "Name: SalePrice, dtype: float64"
            ]
          },
          "metadata": {
            "tags": []
          },
          "execution_count": 8
        }
      ]
    },
    {
      "metadata": {
        "id": "yQJKkpbi4kq4",
        "colab_type": "text"
      },
      "cell_type": "markdown",
      "source": [
        "This shows us more clearly that variables such as OverallQual, GrLivArea correlates more with SalePrice "
      ]
    },
    {
      "metadata": {
        "id": "DL_di5SlbUYB",
        "colab_type": "code",
        "outputId": "a3d4260b-769d-4141-fff9-f9d60d7b2388",
        "colab": {
          "base_uri": "https://localhost:8080/",
          "height": 2975
        }
      },
      "cell_type": "code",
      "source": [
        "# Now we let's see # of observation, datatypes, and if there is missing value\n",
        "print(\"train data variables\")\n",
        "train_df.info()\n",
        "print(\"  \")\n",
        "print(\"test data variables\")\n",
        "test_df.info()"
      ],
      "execution_count": 0,
      "outputs": [
        {
          "output_type": "stream",
          "text": [
            "train data variables\n",
            "<class 'pandas.core.frame.DataFrame'>\n",
            "RangeIndex: 1460 entries, 0 to 1459\n",
            "Data columns (total 81 columns):\n",
            "Id               1460 non-null int64\n",
            "MSSubClass       1460 non-null int64\n",
            "MSZoning         1460 non-null object\n",
            "LotFrontage      1201 non-null float64\n",
            "LotArea          1460 non-null int64\n",
            "Street           1460 non-null object\n",
            "Alley            91 non-null object\n",
            "LotShape         1460 non-null object\n",
            "LandContour      1460 non-null object\n",
            "Utilities        1460 non-null object\n",
            "LotConfig        1460 non-null object\n",
            "LandSlope        1460 non-null object\n",
            "Neighborhood     1460 non-null object\n",
            "Condition1       1460 non-null object\n",
            "Condition2       1460 non-null object\n",
            "BldgType         1460 non-null object\n",
            "HouseStyle       1460 non-null object\n",
            "OverallQual      1460 non-null int64\n",
            "OverallCond      1460 non-null int64\n",
            "YearBuilt        1460 non-null int64\n",
            "YearRemodAdd     1460 non-null int64\n",
            "RoofStyle        1460 non-null object\n",
            "RoofMatl         1460 non-null object\n",
            "Exterior1st      1460 non-null object\n",
            "Exterior2nd      1460 non-null object\n",
            "MasVnrType       1452 non-null object\n",
            "MasVnrArea       1452 non-null float64\n",
            "ExterQual        1460 non-null object\n",
            "ExterCond        1460 non-null object\n",
            "Foundation       1460 non-null object\n",
            "BsmtQual         1423 non-null object\n",
            "BsmtCond         1423 non-null object\n",
            "BsmtExposure     1422 non-null object\n",
            "BsmtFinType1     1423 non-null object\n",
            "BsmtFinSF1       1460 non-null int64\n",
            "BsmtFinType2     1422 non-null object\n",
            "BsmtFinSF2       1460 non-null int64\n",
            "BsmtUnfSF        1460 non-null int64\n",
            "TotalBsmtSF      1460 non-null int64\n",
            "Heating          1460 non-null object\n",
            "HeatingQC        1460 non-null object\n",
            "CentralAir       1460 non-null object\n",
            "Electrical       1459 non-null object\n",
            "1stFlrSF         1460 non-null int64\n",
            "2ndFlrSF         1460 non-null int64\n",
            "LowQualFinSF     1460 non-null int64\n",
            "GrLivArea        1460 non-null int64\n",
            "BsmtFullBath     1460 non-null int64\n",
            "BsmtHalfBath     1460 non-null int64\n",
            "FullBath         1460 non-null int64\n",
            "HalfBath         1460 non-null int64\n",
            "BedroomAbvGr     1460 non-null int64\n",
            "KitchenAbvGr     1460 non-null int64\n",
            "KitchenQual      1460 non-null object\n",
            "TotRmsAbvGrd     1460 non-null int64\n",
            "Functional       1460 non-null object\n",
            "Fireplaces       1460 non-null int64\n",
            "FireplaceQu      770 non-null object\n",
            "GarageType       1379 non-null object\n",
            "GarageYrBlt      1379 non-null float64\n",
            "GarageFinish     1379 non-null object\n",
            "GarageCars       1460 non-null int64\n",
            "GarageArea       1460 non-null int64\n",
            "GarageQual       1379 non-null object\n",
            "GarageCond       1379 non-null object\n",
            "PavedDrive       1460 non-null object\n",
            "WoodDeckSF       1460 non-null int64\n",
            "OpenPorchSF      1460 non-null int64\n",
            "EnclosedPorch    1460 non-null int64\n",
            "3SsnPorch        1460 non-null int64\n",
            "ScreenPorch      1460 non-null int64\n",
            "PoolArea         1460 non-null int64\n",
            "PoolQC           7 non-null object\n",
            "Fence            281 non-null object\n",
            "MiscFeature      54 non-null object\n",
            "MiscVal          1460 non-null int64\n",
            "MoSold           1460 non-null int64\n",
            "YrSold           1460 non-null int64\n",
            "SaleType         1460 non-null object\n",
            "SaleCondition    1460 non-null object\n",
            "SalePrice        1460 non-null int64\n",
            "dtypes: float64(3), int64(35), object(43)\n",
            "memory usage: 924.0+ KB\n",
            "  \n",
            "test data variables\n",
            "<class 'pandas.core.frame.DataFrame'>\n",
            "RangeIndex: 1459 entries, 0 to 1458\n",
            "Data columns (total 80 columns):\n",
            "Id               1459 non-null int64\n",
            "MSSubClass       1459 non-null int64\n",
            "MSZoning         1455 non-null object\n",
            "LotFrontage      1232 non-null float64\n",
            "LotArea          1459 non-null int64\n",
            "Street           1459 non-null object\n",
            "Alley            107 non-null object\n",
            "LotShape         1459 non-null object\n",
            "LandContour      1459 non-null object\n",
            "Utilities        1457 non-null object\n",
            "LotConfig        1459 non-null object\n",
            "LandSlope        1459 non-null object\n",
            "Neighborhood     1459 non-null object\n",
            "Condition1       1459 non-null object\n",
            "Condition2       1459 non-null object\n",
            "BldgType         1459 non-null object\n",
            "HouseStyle       1459 non-null object\n",
            "OverallQual      1459 non-null int64\n",
            "OverallCond      1459 non-null int64\n",
            "YearBuilt        1459 non-null int64\n",
            "YearRemodAdd     1459 non-null int64\n",
            "RoofStyle        1459 non-null object\n",
            "RoofMatl         1459 non-null object\n",
            "Exterior1st      1458 non-null object\n",
            "Exterior2nd      1458 non-null object\n",
            "MasVnrType       1443 non-null object\n",
            "MasVnrArea       1444 non-null float64\n",
            "ExterQual        1459 non-null object\n",
            "ExterCond        1459 non-null object\n",
            "Foundation       1459 non-null object\n",
            "BsmtQual         1415 non-null object\n",
            "BsmtCond         1414 non-null object\n",
            "BsmtExposure     1415 non-null object\n",
            "BsmtFinType1     1417 non-null object\n",
            "BsmtFinSF1       1458 non-null float64\n",
            "BsmtFinType2     1417 non-null object\n",
            "BsmtFinSF2       1458 non-null float64\n",
            "BsmtUnfSF        1458 non-null float64\n",
            "TotalBsmtSF      1458 non-null float64\n",
            "Heating          1459 non-null object\n",
            "HeatingQC        1459 non-null object\n",
            "CentralAir       1459 non-null object\n",
            "Electrical       1459 non-null object\n",
            "1stFlrSF         1459 non-null int64\n",
            "2ndFlrSF         1459 non-null int64\n",
            "LowQualFinSF     1459 non-null int64\n",
            "GrLivArea        1459 non-null int64\n",
            "BsmtFullBath     1457 non-null float64\n",
            "BsmtHalfBath     1457 non-null float64\n",
            "FullBath         1459 non-null int64\n",
            "HalfBath         1459 non-null int64\n",
            "BedroomAbvGr     1459 non-null int64\n",
            "KitchenAbvGr     1459 non-null int64\n",
            "KitchenQual      1458 non-null object\n",
            "TotRmsAbvGrd     1459 non-null int64\n",
            "Functional       1457 non-null object\n",
            "Fireplaces       1459 non-null int64\n",
            "FireplaceQu      729 non-null object\n",
            "GarageType       1383 non-null object\n",
            "GarageYrBlt      1381 non-null float64\n",
            "GarageFinish     1381 non-null object\n",
            "GarageCars       1458 non-null float64\n",
            "GarageArea       1458 non-null float64\n",
            "GarageQual       1381 non-null object\n",
            "GarageCond       1381 non-null object\n",
            "PavedDrive       1459 non-null object\n",
            "WoodDeckSF       1459 non-null int64\n",
            "OpenPorchSF      1459 non-null int64\n",
            "EnclosedPorch    1459 non-null int64\n",
            "3SsnPorch        1459 non-null int64\n",
            "ScreenPorch      1459 non-null int64\n",
            "PoolArea         1459 non-null int64\n",
            "PoolQC           3 non-null object\n",
            "Fence            290 non-null object\n",
            "MiscFeature      51 non-null object\n",
            "MiscVal          1459 non-null int64\n",
            "MoSold           1459 non-null int64\n",
            "YrSold           1459 non-null int64\n",
            "SaleType         1458 non-null object\n",
            "SaleCondition    1459 non-null object\n",
            "dtypes: float64(11), int64(26), object(43)\n",
            "memory usage: 912.0+ KB\n"
          ],
          "name": "stdout"
        }
      ]
    },
    {
      "metadata": {
        "id": "OgKz0sV6FCUt",
        "colab_type": "text"
      },
      "cell_type": "markdown",
      "source": [
        "We see that there are 3 data types and many missing values in some of the variables"
      ]
    },
    {
      "metadata": {
        "id": "4M1yqNJb27g2",
        "colab_type": "text"
      },
      "cell_type": "markdown",
      "source": [
        "# Data Wrangling or Data Munging"
      ]
    },
    {
      "metadata": {
        "id": "PnSpc4x8FGqh",
        "colab_type": "text"
      },
      "cell_type": "markdown",
      "source": [
        "## Dealing with the missing values first (only for the variables that has a lot of missing value)"
      ]
    },
    {
      "metadata": {
        "id": "VmZSe182bUxb",
        "colab_type": "code",
        "outputId": "6136eb49-1096-475c-df84-8261da301261",
        "colab": {
          "base_uri": "https://localhost:8080/",
          "height": 1071
        }
      },
      "cell_type": "code",
      "source": [
        "# checking missing variables in train dataset\n",
        "train_df.isna().sum()"
      ],
      "execution_count": 0,
      "outputs": [
        {
          "output_type": "execute_result",
          "data": {
            "text/plain": [
              "Id                  0\n",
              "MSSubClass          0\n",
              "MSZoning            0\n",
              "LotFrontage       259\n",
              "LotArea             0\n",
              "Street              0\n",
              "Alley            1369\n",
              "LotShape            0\n",
              "LandContour         0\n",
              "Utilities           0\n",
              "LotConfig           0\n",
              "LandSlope           0\n",
              "Neighborhood        0\n",
              "Condition1          0\n",
              "Condition2          0\n",
              "BldgType            0\n",
              "HouseStyle          0\n",
              "OverallQual         0\n",
              "OverallCond         0\n",
              "YearBuilt           0\n",
              "YearRemodAdd        0\n",
              "RoofStyle           0\n",
              "RoofMatl            0\n",
              "Exterior1st         0\n",
              "Exterior2nd         0\n",
              "MasVnrType          8\n",
              "MasVnrArea          8\n",
              "ExterQual           0\n",
              "ExterCond           0\n",
              "Foundation          0\n",
              "                 ... \n",
              "BedroomAbvGr        0\n",
              "KitchenAbvGr        0\n",
              "KitchenQual         0\n",
              "TotRmsAbvGrd        0\n",
              "Functional          0\n",
              "Fireplaces          0\n",
              "FireplaceQu       690\n",
              "GarageType         81\n",
              "GarageYrBlt        81\n",
              "GarageFinish       81\n",
              "GarageCars          0\n",
              "GarageArea          0\n",
              "GarageQual         81\n",
              "GarageCond         81\n",
              "PavedDrive          0\n",
              "WoodDeckSF          0\n",
              "OpenPorchSF         0\n",
              "EnclosedPorch       0\n",
              "3SsnPorch           0\n",
              "ScreenPorch         0\n",
              "PoolArea            0\n",
              "PoolQC           1453\n",
              "Fence            1179\n",
              "MiscFeature      1406\n",
              "MiscVal             0\n",
              "MoSold              0\n",
              "YrSold              0\n",
              "SaleType            0\n",
              "SaleCondition       0\n",
              "SalePrice           0\n",
              "Length: 81, dtype: int64"
            ]
          },
          "metadata": {
            "tags": []
          },
          "execution_count": 10
        }
      ]
    },
    {
      "metadata": {
        "id": "RJku5I22Exbw",
        "colab_type": "text"
      },
      "cell_type": "markdown",
      "source": [
        "We assume around or over 50% of data missing has alot of value missing\n",
        "\n",
        "From training data, we see that Alley, FirePlaceQu, PoolQC, Fence, MiscFeature, has alot of values missing "
      ]
    },
    {
      "metadata": {
        "id": "UsKmGlIbCv-B",
        "colab_type": "code",
        "outputId": "abd9b403-c78a-4d00-e19b-ea7a693c514b",
        "colab": {
          "base_uri": "https://localhost:8080/",
          "height": 1071
        }
      },
      "cell_type": "code",
      "source": [
        "# checking missing variables in the test dataset\n",
        "test_df.isna().sum()"
      ],
      "execution_count": 0,
      "outputs": [
        {
          "output_type": "execute_result",
          "data": {
            "text/plain": [
              "Id                  0\n",
              "MSSubClass          0\n",
              "MSZoning            4\n",
              "LotFrontage       227\n",
              "LotArea             0\n",
              "Street              0\n",
              "Alley            1352\n",
              "LotShape            0\n",
              "LandContour         0\n",
              "Utilities           2\n",
              "LotConfig           0\n",
              "LandSlope           0\n",
              "Neighborhood        0\n",
              "Condition1          0\n",
              "Condition2          0\n",
              "BldgType            0\n",
              "HouseStyle          0\n",
              "OverallQual         0\n",
              "OverallCond         0\n",
              "YearBuilt           0\n",
              "YearRemodAdd        0\n",
              "RoofStyle           0\n",
              "RoofMatl            0\n",
              "Exterior1st         1\n",
              "Exterior2nd         1\n",
              "MasVnrType         16\n",
              "MasVnrArea         15\n",
              "ExterQual           0\n",
              "ExterCond           0\n",
              "Foundation          0\n",
              "                 ... \n",
              "HalfBath            0\n",
              "BedroomAbvGr        0\n",
              "KitchenAbvGr        0\n",
              "KitchenQual         1\n",
              "TotRmsAbvGrd        0\n",
              "Functional          2\n",
              "Fireplaces          0\n",
              "FireplaceQu       730\n",
              "GarageType         76\n",
              "GarageYrBlt        78\n",
              "GarageFinish       78\n",
              "GarageCars          1\n",
              "GarageArea          1\n",
              "GarageQual         78\n",
              "GarageCond         78\n",
              "PavedDrive          0\n",
              "WoodDeckSF          0\n",
              "OpenPorchSF         0\n",
              "EnclosedPorch       0\n",
              "3SsnPorch           0\n",
              "ScreenPorch         0\n",
              "PoolArea            0\n",
              "PoolQC           1456\n",
              "Fence            1169\n",
              "MiscFeature      1408\n",
              "MiscVal             0\n",
              "MoSold              0\n",
              "YrSold              0\n",
              "SaleType            1\n",
              "SaleCondition       0\n",
              "Length: 80, dtype: int64"
            ]
          },
          "metadata": {
            "tags": []
          },
          "execution_count": 11
        }
      ]
    },
    {
      "metadata": {
        "id": "-MAuiISjE12t",
        "colab_type": "text"
      },
      "cell_type": "markdown",
      "source": [
        "We assume around or over 50% of data missing has alot of value missing\n",
        "\n",
        "From testing data, we see that Alley, FirePlaceQu, PoolQC, Fence, MiscFeature, has alot of values missing "
      ]
    },
    {
      "metadata": {
        "id": "r2zmgu1oEsGx",
        "colab_type": "text"
      },
      "cell_type": "markdown",
      "source": [
        "## Drop the variables that has alot of values missing"
      ]
    },
    {
      "metadata": {
        "id": "l1vZ9DOBHTv1",
        "colab_type": "code",
        "colab": {}
      },
      "cell_type": "code",
      "source": [
        "#Drop variables that has a lot of values missing in train dataset\n",
        "train_df.drop([\"Alley\", \"FireplaceQu\", \"PoolQC\", \"Fence\", \"MiscFeature\"], axis = 1, inplace = True) \n"
      ],
      "execution_count": 0,
      "outputs": []
    },
    {
      "metadata": {
        "id": "5aSN9uBgJtvs",
        "colab_type": "code",
        "colab": {}
      },
      "cell_type": "code",
      "source": [
        "#Drop variables that has a lot of values missing in testing dataset\n",
        "test_df.drop([\"Alley\", \"FireplaceQu\", \"PoolQC\", \"Fence\", \"MiscFeature\"], axis = 1, inplace = True) "
      ],
      "execution_count": 0,
      "outputs": []
    },
    {
      "metadata": {
        "id": "w_3sbYDcHqik",
        "colab_type": "text"
      },
      "cell_type": "markdown",
      "source": [
        "## For now, We will only use int and float data type for submission\n",
        "## We will test it out first and see the score, if the score isn't good, we might want to also consider object type variables by adding dummy variables."
      ]
    },
    {
      "metadata": {
        "id": "0TawkMMlIKor",
        "colab_type": "text"
      },
      "cell_type": "markdown",
      "source": [
        "##For now, we exclude object datatype in both training and testing data set"
      ]
    },
    {
      "metadata": {
        "id": "ndwhjsYKyKpu",
        "colab_type": "code",
        "colab": {}
      },
      "cell_type": "code",
      "source": [
        "# we exclude objective data type for train data set\n",
        "train_df=train_df.select_dtypes(exclude=['object'])\n",
        "\n"
      ],
      "execution_count": 0,
      "outputs": []
    },
    {
      "metadata": {
        "id": "y9yLO3PILssw",
        "colab_type": "code",
        "outputId": "2f7cce21-4cba-45e6-e04a-dc39a06c12dc",
        "colab": {
          "base_uri": "https://localhost:8080/",
          "height": 748
        }
      },
      "cell_type": "code",
      "source": [
        "# check to see if train data has no objective data type\n",
        "train_df.info()"
      ],
      "execution_count": 0,
      "outputs": [
        {
          "output_type": "stream",
          "text": [
            "<class 'pandas.core.frame.DataFrame'>\n",
            "RangeIndex: 1460 entries, 0 to 1459\n",
            "Data columns (total 38 columns):\n",
            "Id               1460 non-null int64\n",
            "MSSubClass       1460 non-null int64\n",
            "LotFrontage      1201 non-null float64\n",
            "LotArea          1460 non-null int64\n",
            "OverallQual      1460 non-null int64\n",
            "OverallCond      1460 non-null int64\n",
            "YearBuilt        1460 non-null int64\n",
            "YearRemodAdd     1460 non-null int64\n",
            "MasVnrArea       1452 non-null float64\n",
            "BsmtFinSF1       1460 non-null int64\n",
            "BsmtFinSF2       1460 non-null int64\n",
            "BsmtUnfSF        1460 non-null int64\n",
            "TotalBsmtSF      1460 non-null int64\n",
            "1stFlrSF         1460 non-null int64\n",
            "2ndFlrSF         1460 non-null int64\n",
            "LowQualFinSF     1460 non-null int64\n",
            "GrLivArea        1460 non-null int64\n",
            "BsmtFullBath     1460 non-null int64\n",
            "BsmtHalfBath     1460 non-null int64\n",
            "FullBath         1460 non-null int64\n",
            "HalfBath         1460 non-null int64\n",
            "BedroomAbvGr     1460 non-null int64\n",
            "KitchenAbvGr     1460 non-null int64\n",
            "TotRmsAbvGrd     1460 non-null int64\n",
            "Fireplaces       1460 non-null int64\n",
            "GarageYrBlt      1379 non-null float64\n",
            "GarageCars       1460 non-null int64\n",
            "GarageArea       1460 non-null int64\n",
            "WoodDeckSF       1460 non-null int64\n",
            "OpenPorchSF      1460 non-null int64\n",
            "EnclosedPorch    1460 non-null int64\n",
            "3SsnPorch        1460 non-null int64\n",
            "ScreenPorch      1460 non-null int64\n",
            "PoolArea         1460 non-null int64\n",
            "MiscVal          1460 non-null int64\n",
            "MoSold           1460 non-null int64\n",
            "YrSold           1460 non-null int64\n",
            "SalePrice        1460 non-null int64\n",
            "dtypes: float64(3), int64(35)\n",
            "memory usage: 433.5 KB\n"
          ],
          "name": "stdout"
        }
      ]
    },
    {
      "metadata": {
        "id": "llfNnmgzyKa7",
        "colab_type": "code",
        "colab": {}
      },
      "cell_type": "code",
      "source": [
        "# we exclude objective data type for test data set\n",
        "test_df=test_df.select_dtypes(exclude=['object'])\n",
        "\n"
      ],
      "execution_count": 0,
      "outputs": []
    },
    {
      "metadata": {
        "id": "rclPx3hEMtMU",
        "colab_type": "code",
        "outputId": "5de2f993-4260-4ea9-d1b8-1dff366e184a",
        "colab": {
          "base_uri": "https://localhost:8080/",
          "height": 731
        }
      },
      "cell_type": "code",
      "source": [
        "# check to see if test data has no objective data type\n",
        "test_df.info()"
      ],
      "execution_count": 0,
      "outputs": [
        {
          "output_type": "stream",
          "text": [
            "<class 'pandas.core.frame.DataFrame'>\n",
            "RangeIndex: 1459 entries, 0 to 1458\n",
            "Data columns (total 37 columns):\n",
            "Id               1459 non-null int64\n",
            "MSSubClass       1459 non-null int64\n",
            "LotFrontage      1232 non-null float64\n",
            "LotArea          1459 non-null int64\n",
            "OverallQual      1459 non-null int64\n",
            "OverallCond      1459 non-null int64\n",
            "YearBuilt        1459 non-null int64\n",
            "YearRemodAdd     1459 non-null int64\n",
            "MasVnrArea       1444 non-null float64\n",
            "BsmtFinSF1       1458 non-null float64\n",
            "BsmtFinSF2       1458 non-null float64\n",
            "BsmtUnfSF        1458 non-null float64\n",
            "TotalBsmtSF      1458 non-null float64\n",
            "1stFlrSF         1459 non-null int64\n",
            "2ndFlrSF         1459 non-null int64\n",
            "LowQualFinSF     1459 non-null int64\n",
            "GrLivArea        1459 non-null int64\n",
            "BsmtFullBath     1457 non-null float64\n",
            "BsmtHalfBath     1457 non-null float64\n",
            "FullBath         1459 non-null int64\n",
            "HalfBath         1459 non-null int64\n",
            "BedroomAbvGr     1459 non-null int64\n",
            "KitchenAbvGr     1459 non-null int64\n",
            "TotRmsAbvGrd     1459 non-null int64\n",
            "Fireplaces       1459 non-null int64\n",
            "GarageYrBlt      1381 non-null float64\n",
            "GarageCars       1458 non-null float64\n",
            "GarageArea       1458 non-null float64\n",
            "WoodDeckSF       1459 non-null int64\n",
            "OpenPorchSF      1459 non-null int64\n",
            "EnclosedPorch    1459 non-null int64\n",
            "3SsnPorch        1459 non-null int64\n",
            "ScreenPorch      1459 non-null int64\n",
            "PoolArea         1459 non-null int64\n",
            "MiscVal          1459 non-null int64\n",
            "MoSold           1459 non-null int64\n",
            "YrSold           1459 non-null int64\n",
            "dtypes: float64(11), int64(26)\n",
            "memory usage: 421.8 KB\n"
          ],
          "name": "stdout"
        }
      ]
    },
    {
      "metadata": {
        "id": "LXG5pPktEUwU",
        "colab_type": "text"
      },
      "cell_type": "markdown",
      "source": [
        "## Deal with missing values in float and int data type(columns with lesser missing variable) by filling the missing value with mean\n"
      ]
    },
    {
      "metadata": {
        "id": "FjZHJtL05Fk8",
        "colab_type": "code",
        "colab": {}
      },
      "cell_type": "code",
      "source": [
        "#fill in missing values with mean in data set\n",
        "mean = train_df.mean()\n",
        "train_df= train_df.fillna(mean)"
      ],
      "execution_count": 0,
      "outputs": []
    },
    {
      "metadata": {
        "id": "U0LJ1pzFNKO4",
        "colab_type": "code",
        "outputId": "92d4864b-5710-4790-ffe6-7daeca3c143a",
        "colab": {
          "base_uri": "https://localhost:8080/",
          "height": 680
        }
      },
      "cell_type": "code",
      "source": [
        "# check to see if there is still missing value in train data\n",
        "train_df.isnull().sum()"
      ],
      "execution_count": 0,
      "outputs": [
        {
          "output_type": "execute_result",
          "data": {
            "text/plain": [
              "Id               0\n",
              "MSSubClass       0\n",
              "LotFrontage      0\n",
              "LotArea          0\n",
              "OverallQual      0\n",
              "OverallCond      0\n",
              "YearBuilt        0\n",
              "YearRemodAdd     0\n",
              "MasVnrArea       0\n",
              "BsmtFinSF1       0\n",
              "BsmtFinSF2       0\n",
              "BsmtUnfSF        0\n",
              "TotalBsmtSF      0\n",
              "1stFlrSF         0\n",
              "2ndFlrSF         0\n",
              "LowQualFinSF     0\n",
              "GrLivArea        0\n",
              "BsmtFullBath     0\n",
              "BsmtHalfBath     0\n",
              "FullBath         0\n",
              "HalfBath         0\n",
              "BedroomAbvGr     0\n",
              "KitchenAbvGr     0\n",
              "TotRmsAbvGrd     0\n",
              "Fireplaces       0\n",
              "GarageYrBlt      0\n",
              "GarageCars       0\n",
              "GarageArea       0\n",
              "WoodDeckSF       0\n",
              "OpenPorchSF      0\n",
              "EnclosedPorch    0\n",
              "3SsnPorch        0\n",
              "ScreenPorch      0\n",
              "PoolArea         0\n",
              "MiscVal          0\n",
              "MoSold           0\n",
              "YrSold           0\n",
              "SalePrice        0\n",
              "dtype: int64"
            ]
          },
          "metadata": {
            "tags": []
          },
          "execution_count": 19
        }
      ]
    },
    {
      "metadata": {
        "id": "D4h1Rtlb7Uaj",
        "colab_type": "code",
        "colab": {}
      },
      "cell_type": "code",
      "source": [
        "#fill in missing values with mean in test set\n",
        "test_mean = test_df.mean()\n",
        "test_df=test_df.fillna(test_mean)"
      ],
      "execution_count": 0,
      "outputs": []
    },
    {
      "metadata": {
        "id": "u2ypAeU6Np3s",
        "colab_type": "code",
        "outputId": "63b4ddf0-c818-40f1-ab7d-ce491e9d8d8c",
        "colab": {
          "base_uri": "https://localhost:8080/",
          "height": 663
        }
      },
      "cell_type": "code",
      "source": [
        "# check to see if there is still missing value in test data\n",
        "test_df.isnull().sum()"
      ],
      "execution_count": 0,
      "outputs": [
        {
          "output_type": "execute_result",
          "data": {
            "text/plain": [
              "Id               0\n",
              "MSSubClass       0\n",
              "LotFrontage      0\n",
              "LotArea          0\n",
              "OverallQual      0\n",
              "OverallCond      0\n",
              "YearBuilt        0\n",
              "YearRemodAdd     0\n",
              "MasVnrArea       0\n",
              "BsmtFinSF1       0\n",
              "BsmtFinSF2       0\n",
              "BsmtUnfSF        0\n",
              "TotalBsmtSF      0\n",
              "1stFlrSF         0\n",
              "2ndFlrSF         0\n",
              "LowQualFinSF     0\n",
              "GrLivArea        0\n",
              "BsmtFullBath     0\n",
              "BsmtHalfBath     0\n",
              "FullBath         0\n",
              "HalfBath         0\n",
              "BedroomAbvGr     0\n",
              "KitchenAbvGr     0\n",
              "TotRmsAbvGrd     0\n",
              "Fireplaces       0\n",
              "GarageYrBlt      0\n",
              "GarageCars       0\n",
              "GarageArea       0\n",
              "WoodDeckSF       0\n",
              "OpenPorchSF      0\n",
              "EnclosedPorch    0\n",
              "3SsnPorch        0\n",
              "ScreenPorch      0\n",
              "PoolArea         0\n",
              "MiscVal          0\n",
              "MoSold           0\n",
              "YrSold           0\n",
              "dtype: int64"
            ]
          },
          "metadata": {
            "tags": []
          },
          "execution_count": 21
        }
      ]
    },
    {
      "metadata": {
        "id": "g7EwdUOyFPuF",
        "colab_type": "text"
      },
      "cell_type": "markdown",
      "source": [
        "## See how the salesprice distribute\n"
      ]
    },
    {
      "metadata": {
        "id": "qOPJXiEP8MgB",
        "colab_type": "code",
        "outputId": "be6b494e-81da-4dd2-97dd-a9a3cae777db",
        "colab": {
          "base_uri": "https://localhost:8080/",
          "height": 378
        }
      },
      "cell_type": "code",
      "source": [
        "#see the distribution of salesprice with distribution plot\n",
        "sns.distplot(train_df['SalePrice'])"
      ],
      "execution_count": 0,
      "outputs": [
        {
          "output_type": "execute_result",
          "data": {
            "text/plain": [
              "<matplotlib.axes._subplots.AxesSubplot at 0x7fbe093d53c8>"
            ]
          },
          "metadata": {
            "tags": []
          },
          "execution_count": 22
        },
        {
          "output_type": "display_data",
          "data": {
            "image/png": "[encoded data removed]",
            "text/plain": [
              "<matplotlib.figure.Figure at 0x7fbe093d6b38>"
            ]
          },
          "metadata": {
            "tags": []
          }
        }
      ]
    },
    {
      "metadata": {
        "id": "rCd2XQrPEDxM",
        "colab_type": "text"
      },
      "cell_type": "markdown",
      "source": [
        "## Data is right tailed, we can apply log to make it into center\n"
      ]
    },
    {
      "metadata": {
        "id": "cFituX3E8yzi",
        "colab_type": "code",
        "colab": {}
      },
      "cell_type": "code",
      "source": [
        "# Import numpy to do transfer the dataset with log\n",
        "import numpy as np\n",
        "Y_train=np.log1p(train_df['SalePrice'])"
      ],
      "execution_count": 0,
      "outputs": []
    },
    {
      "metadata": {
        "id": "fxktVvXT99Ad",
        "colab_type": "code",
        "outputId": "fd335cd6-5bb8-48b2-b798-4428bd1fe64f",
        "colab": {
          "base_uri": "https://localhost:8080/",
          "height": 378
        }
      },
      "cell_type": "code",
      "source": [
        "#Now let's see the graph again\n",
        "sns.distplot(Y_train)"
      ],
      "execution_count": 0,
      "outputs": [
        {
          "output_type": "execute_result",
          "data": {
            "text/plain": [
              "<matplotlib.axes._subplots.AxesSubplot at 0x7fbe093d5048>"
            ]
          },
          "metadata": {
            "tags": []
          },
          "execution_count": 24
        },
        {
          "output_type": "display_data",
          "data": {
            "image/png": "[encoded data removed]",
            "text/plain": [
              "<matplotlib.figure.Figure at 0x7fbe0cfff7b8>"
            ]
          },
          "metadata": {
            "tags": []
          }
        }
      ]
    },
    {
      "metadata": {
        "id": "BK3Xy0817g5W",
        "colab_type": "text"
      },
      "cell_type": "markdown",
      "source": [
        "Now we can see that the SalePrice is more center"
      ]
    },
    {
      "metadata": {
        "id": "BmHyXq524Mcb",
        "colab_type": "text"
      },
      "cell_type": "markdown",
      "source": [
        "# Traing data with Machine Learning Model"
      ]
    },
    {
      "metadata": {
        "id": "8KcgE8jJD57v",
        "colab_type": "text"
      },
      "cell_type": "markdown",
      "source": [
        "##Now we can do Modeling trainning with regression\n",
        "##First method: Ridge Regression\n",
        "\n",
        "Ridge Regression is a regression model that uses L1 regularization technique. It adds squared magnitude of coefficient as penalty term to the loss function. It is good when a data contains many variables."
      ]
    },
    {
      "metadata": {
        "id": "tv1Upr_w-WAO",
        "colab_type": "code",
        "colab": {}
      },
      "cell_type": "code",
      "source": [
        "#Assign train data set to X_train, test data set to X_test\n",
        "X_train=train_df\n",
        "X_test=test_df\n"
      ],
      "execution_count": 0,
      "outputs": []
    },
    {
      "metadata": {
        "id": "mhumiOxha-p0",
        "colab_type": "code",
        "outputId": "67d718ae-a76c-45a5-eba2-b2727b0c629a",
        "colab": {
          "base_uri": "https://localhost:8080/",
          "height": 748
        }
      },
      "cell_type": "code",
      "source": [
        "# Check if train data set is assigned successfully to X_train\n",
        "X_train.info()"
      ],
      "execution_count": 0,
      "outputs": [
        {
          "output_type": "stream",
          "text": [
            "<class 'pandas.core.frame.DataFrame'>\n",
            "RangeIndex: 1460 entries, 0 to 1459\n",
            "Data columns (total 38 columns):\n",
            "Id               1460 non-null int64\n",
            "MSSubClass       1460 non-null int64\n",
            "LotFrontage      1460 non-null float64\n",
            "LotArea          1460 non-null int64\n",
            "OverallQual      1460 non-null int64\n",
            "OverallCond      1460 non-null int64\n",
            "YearBuilt        1460 non-null int64\n",
            "YearRemodAdd     1460 non-null int64\n",
            "MasVnrArea       1460 non-null float64\n",
            "BsmtFinSF1       1460 non-null int64\n",
            "BsmtFinSF2       1460 non-null int64\n",
            "BsmtUnfSF        1460 non-null int64\n",
            "TotalBsmtSF      1460 non-null int64\n",
            "1stFlrSF         1460 non-null int64\n",
            "2ndFlrSF         1460 non-null int64\n",
            "LowQualFinSF     1460 non-null int64\n",
            "GrLivArea        1460 non-null int64\n",
            "BsmtFullBath     1460 non-null int64\n",
            "BsmtHalfBath     1460 non-null int64\n",
            "FullBath         1460 non-null int64\n",
            "HalfBath         1460 non-null int64\n",
            "BedroomAbvGr     1460 non-null int64\n",
            "KitchenAbvGr     1460 non-null int64\n",
            "TotRmsAbvGrd     1460 non-null int64\n",
            "Fireplaces       1460 non-null int64\n",
            "GarageYrBlt      1460 non-null float64\n",
            "GarageCars       1460 non-null int64\n",
            "GarageArea       1460 non-null int64\n",
            "WoodDeckSF       1460 non-null int64\n",
            "OpenPorchSF      1460 non-null int64\n",
            "EnclosedPorch    1460 non-null int64\n",
            "3SsnPorch        1460 non-null int64\n",
            "ScreenPorch      1460 non-null int64\n",
            "PoolArea         1460 non-null int64\n",
            "MiscVal          1460 non-null int64\n",
            "MoSold           1460 non-null int64\n",
            "YrSold           1460 non-null int64\n",
            "SalePrice        1460 non-null int64\n",
            "dtypes: float64(3), int64(35)\n",
            "memory usage: 433.5 KB\n"
          ],
          "name": "stdout"
        }
      ]
    },
    {
      "metadata": {
        "id": "KBFR8xASbWAX",
        "colab_type": "code",
        "outputId": "7b29843b-b101-42c8-fe12-d0d2a65fb609",
        "colab": {
          "base_uri": "https://localhost:8080/",
          "height": 731
        }
      },
      "cell_type": "code",
      "source": [
        "# Check if test data set is assigned successfully to X_test\n",
        "X_test.info()"
      ],
      "execution_count": 0,
      "outputs": [
        {
          "output_type": "stream",
          "text": [
            "<class 'pandas.core.frame.DataFrame'>\n",
            "RangeIndex: 1459 entries, 0 to 1458\n",
            "Data columns (total 37 columns):\n",
            "Id               1459 non-null int64\n",
            "MSSubClass       1459 non-null int64\n",
            "LotFrontage      1459 non-null float64\n",
            "LotArea          1459 non-null int64\n",
            "OverallQual      1459 non-null int64\n",
            "OverallCond      1459 non-null int64\n",
            "YearBuilt        1459 non-null int64\n",
            "YearRemodAdd     1459 non-null int64\n",
            "MasVnrArea       1459 non-null float64\n",
            "BsmtFinSF1       1459 non-null float64\n",
            "BsmtFinSF2       1459 non-null float64\n",
            "BsmtUnfSF        1459 non-null float64\n",
            "TotalBsmtSF      1459 non-null float64\n",
            "1stFlrSF         1459 non-null int64\n",
            "2ndFlrSF         1459 non-null int64\n",
            "LowQualFinSF     1459 non-null int64\n",
            "GrLivArea        1459 non-null int64\n",
            "BsmtFullBath     1459 non-null float64\n",
            "BsmtHalfBath     1459 non-null float64\n",
            "FullBath         1459 non-null int64\n",
            "HalfBath         1459 non-null int64\n",
            "BedroomAbvGr     1459 non-null int64\n",
            "KitchenAbvGr     1459 non-null int64\n",
            "TotRmsAbvGrd     1459 non-null int64\n",
            "Fireplaces       1459 non-null int64\n",
            "GarageYrBlt      1459 non-null float64\n",
            "GarageCars       1459 non-null float64\n",
            "GarageArea       1459 non-null float64\n",
            "WoodDeckSF       1459 non-null int64\n",
            "OpenPorchSF      1459 non-null int64\n",
            "EnclosedPorch    1459 non-null int64\n",
            "3SsnPorch        1459 non-null int64\n",
            "ScreenPorch      1459 non-null int64\n",
            "PoolArea         1459 non-null int64\n",
            "MiscVal          1459 non-null int64\n",
            "MoSold           1459 non-null int64\n",
            "YrSold           1459 non-null int64\n",
            "dtypes: float64(11), int64(26)\n",
            "memory usage: 421.8 KB\n"
          ],
          "name": "stdout"
        }
      ]
    },
    {
      "metadata": {
        "id": "jHC-oK5Bz8ks",
        "colab_type": "text"
      },
      "cell_type": "markdown",
      "source": [
        "In the beginning, we know that train data set has one more column than test data set due to SalePrice and we can also see from doing X_train.info() and X_test.info()\n",
        "We need to drop it SalePrice or we will get an error from ridge regression ( how do I know: got an error when doing ridge regression without dropping SalePrice, so comeback to check that data again and find this out)"
      ]
    },
    {
      "metadata": {
        "id": "waGiIQtIzumu",
        "colab_type": "code",
        "colab": {}
      },
      "cell_type": "code",
      "source": [
        "# Drop SalePrice from train data\n",
        "X_train.drop([\"SalePrice\"], axis = 1, inplace = True) \n"
      ],
      "execution_count": 0,
      "outputs": []
    },
    {
      "metadata": {
        "id": "5R3xMeDXz4Qk",
        "colab_type": "code",
        "outputId": "026b9a67-68f3-479a-a3d8-1f0111c72798",
        "colab": {
          "base_uri": "https://localhost:8080/",
          "height": 731
        }
      },
      "cell_type": "code",
      "source": [
        "#See if both data set have the same column\n",
        "X_train.info()"
      ],
      "execution_count": 0,
      "outputs": [
        {
          "output_type": "stream",
          "text": [
            "<class 'pandas.core.frame.DataFrame'>\n",
            "RangeIndex: 1460 entries, 0 to 1459\n",
            "Data columns (total 37 columns):\n",
            "Id               1460 non-null int64\n",
            "MSSubClass       1460 non-null int64\n",
            "LotFrontage      1460 non-null float64\n",
            "LotArea          1460 non-null int64\n",
            "OverallQual      1460 non-null int64\n",
            "OverallCond      1460 non-null int64\n",
            "YearBuilt        1460 non-null int64\n",
            "YearRemodAdd     1460 non-null int64\n",
            "MasVnrArea       1460 non-null float64\n",
            "BsmtFinSF1       1460 non-null int64\n",
            "BsmtFinSF2       1460 non-null int64\n",
            "BsmtUnfSF        1460 non-null int64\n",
            "TotalBsmtSF      1460 non-null int64\n",
            "1stFlrSF         1460 non-null int64\n",
            "2ndFlrSF         1460 non-null int64\n",
            "LowQualFinSF     1460 non-null int64\n",
            "GrLivArea        1460 non-null int64\n",
            "BsmtFullBath     1460 non-null int64\n",
            "BsmtHalfBath     1460 non-null int64\n",
            "FullBath         1460 non-null int64\n",
            "HalfBath         1460 non-null int64\n",
            "BedroomAbvGr     1460 non-null int64\n",
            "KitchenAbvGr     1460 non-null int64\n",
            "TotRmsAbvGrd     1460 non-null int64\n",
            "Fireplaces       1460 non-null int64\n",
            "GarageYrBlt      1460 non-null float64\n",
            "GarageCars       1460 non-null int64\n",
            "GarageArea       1460 non-null int64\n",
            "WoodDeckSF       1460 non-null int64\n",
            "OpenPorchSF      1460 non-null int64\n",
            "EnclosedPorch    1460 non-null int64\n",
            "3SsnPorch        1460 non-null int64\n",
            "ScreenPorch      1460 non-null int64\n",
            "PoolArea         1460 non-null int64\n",
            "MiscVal          1460 non-null int64\n",
            "MoSold           1460 non-null int64\n",
            "YrSold           1460 non-null int64\n",
            "dtypes: float64(3), int64(34)\n",
            "memory usage: 422.1 KB\n"
          ],
          "name": "stdout"
        }
      ]
    },
    {
      "metadata": {
        "id": "0aclUUgn1HhI",
        "colab_type": "text"
      },
      "cell_type": "markdown",
      "source": [
        "Now we can see that both data have the exact same column"
      ]
    },
    {
      "metadata": {
        "id": "YCXqjtPs_BVF",
        "colab_type": "code",
        "colab": {}
      },
      "cell_type": "code",
      "source": [
        "# load ridge regression method\n",
        "from sklearn.linear_model import Ridge \n",
        "# train and predict\n",
        "ridge = Ridge(alpha=1, normalize=True) \n",
        "ridge.fit(X_train, Y_train) \n",
        "\n",
        "# make the prediction\n",
        "ridge_pred = ridge.predict(X_test)\n",
        "Y_pred = np.expm1(ridge_pred)\n"
      ],
      "execution_count": 0,
      "outputs": []
    },
    {
      "metadata": {
        "id": "NXZHhe-_1Yhh",
        "colab_type": "text"
      },
      "cell_type": "markdown",
      "source": [
        "We run this ridge regression just to test if the ridge regression works since we are going to do tuning later with GridSearchCV to find the best parameters"
      ]
    },
    {
      "metadata": {
        "id": "a1Jo_Oz8RHrI",
        "colab_type": "text"
      },
      "cell_type": "markdown",
      "source": [
        "# Tuning for Ridge Regression with GridSearchCV\n",
        "# And use the best parameter to do Ridge Regression\n"
      ]
    },
    {
      "metadata": {
        "id": "soo-hAqmP38Y",
        "colab_type": "code",
        "outputId": "37ec2190-1160-47ba-dd67-08b71a9bc9b8",
        "colab": {
          "base_uri": "https://localhost:8080/",
          "height": 51
        }
      },
      "cell_type": "code",
      "source": [
        "# load tuning method GridSearchCV\n",
        "from sklearn.model_selection import GridSearchCV\n",
        "# choose parameters grid\n",
        "param_grid = {'alpha': np.arange(1, 100)}\n",
        "# Instantiate ridge regression\n",
        "ridge=Ridge()\n",
        "# Instantiate the GridSearchCV object: ridge_cv\n",
        "ridge_cv = GridSearchCV(ridge, param_grid, cv=10, scoring=\"neg_mean_squared_error\")\n",
        "\n",
        "# Fit it to the data\n",
        "ridge_cv.fit(X_train, Y_train)\n",
        "\n",
        "# Print the tuned parameters and score\n",
        "print(\"Tuned ridge Regression Parameters: {}\".format(ridge_cv.best_params_)) \n",
        "print(\"Best score is {}\".format(ridge_cv.best_score_))\n",
        "\n"
      ],
      "execution_count": 0,
      "outputs": [
        {
          "output_type": "stream",
          "text": [
            "Tuned ridge Regression Parameters: {'alpha': 6}\n",
            "Best score is -0.02491206402439919\n"
          ],
          "name": "stdout"
        }
      ]
    },
    {
      "metadata": {
        "id": "h57D6sxP3iS9",
        "colab_type": "text"
      },
      "cell_type": "markdown",
      "source": [
        "We have best parameters of alpha= 6 and best scores of -0.0249 (smaller negative values is better since the scoring method is neg_mean_squared_error)\n",
        "\n",
        "Now we plug alpha back in the ridge regression"
      ]
    },
    {
      "metadata": {
        "id": "7LuakCmcoL69",
        "colab_type": "code",
        "colab": {}
      },
      "cell_type": "code",
      "source": [
        "# load ridge regression method\n",
        "from sklearn.linear_model import Ridge \n",
        "# train and predict\n",
        "ridge = Ridge(alpha=6, normalize=True) \n",
        "ridge.fit(X_train, Y_train) \n",
        "\n",
        "# make the prediction\n",
        "ridge_pred = ridge.predict(X_test)\n",
        "Y_pred = np.expm1(ridge_pred)\n"
      ],
      "execution_count": 0,
      "outputs": []
    },
    {
      "metadata": {
        "id": "tDB3aOF66D0w",
        "colab_type": "code",
        "colab": {}
      },
      "cell_type": "code",
      "source": [
        "# prepare a submission file\n",
        "submission = pd.DataFrame({\n",
        "        \"Id\": test_df[\"Id\"],\n",
        "        \"SalePrice\": Y_pred\n",
        "    })\n",
        "submission.to_csv('fn1.csv', index=False)\n",
        "\n",
        "files.download('fn1.csv')"
      ],
      "execution_count": 0,
      "outputs": []
    },
    {
      "metadata": {
        "id": "Z6sz6p-WODGz",
        "colab_type": "text"
      },
      "cell_type": "markdown",
      "source": [
        "Kaggle Score: 0.25262"
      ]
    },
    {
      "metadata": {
        "id": "hP1yXb6DRK_5",
        "colab_type": "text"
      },
      "cell_type": "markdown",
      "source": [
        "##The prediction wasn't as good as we thought might due to not including object variables. \n",
        "##Therefore, we include object variables\n",
        "# To deal with object variables, we do Feature Engineering: we convert the objective data with dummy variables\n",
        "\n",
        "### ***Important note: please restart or refresh the execution (⌘/Ctrl+M .) before execute the following codes since I used different notation for dummy variables. Also, if execute the codes without restarting, either the data will be a mess or there will appears an error ***\n",
        "\n",
        "\n"
      ]
    },
    {
      "metadata": {
        "id": "ihTENPY1jY7u",
        "colab_type": "code",
        "colab": {}
      },
      "cell_type": "code",
      "source": [
        "# load the necessary libraries\n",
        "\n",
        "# pandas\n",
        "import pandas as pd\n",
        "from pandas import Series,DataFrame\n",
        "\n",
        "# visualization\n",
        "import seaborn as sns\n",
        "\n",
        "# to download files from Colab to our computer\n",
        "from google.colab import files"
      ],
      "execution_count": 0,
      "outputs": []
    },
    {
      "metadata": {
        "id": "YbkBg5odjjj0",
        "colab_type": "code",
        "colab": {}
      },
      "cell_type": "code",
      "source": [
        "# get train & test csv files as a DataFrame\n",
        "train_df = pd.read_csv(\"https://s3.amazonaws.com/it4ba/Kaggle/train.csv\")\n",
        "test_df = pd.read_csv(\"https://s3.amazonaws.com/it4ba/Kaggle/test.csv\")"
      ],
      "execution_count": 0,
      "outputs": []
    },
    {
      "metadata": {
        "id": "PtWtZVp_jkxn",
        "colab_type": "code",
        "colab": {}
      },
      "cell_type": "code",
      "source": [
        "#Drop variables that has a lot of values missing in train dataset\n",
        "train_df.drop([\"Alley\", \"FireplaceQu\", \"PoolQC\", \"Fence\", \"MiscFeature\"], axis = 1, inplace = True) \n"
      ],
      "execution_count": 0,
      "outputs": []
    },
    {
      "metadata": {
        "id": "hbdmGw1Ejkpi",
        "colab_type": "code",
        "colab": {}
      },
      "cell_type": "code",
      "source": [
        "#Drop variables that has a lot of values missing in testing dataset\n",
        "test_df.drop([\"Alley\", \"FireplaceQu\", \"PoolQC\", \"Fence\", \"MiscFeature\"], axis = 1, inplace = True)"
      ],
      "execution_count": 0,
      "outputs": []
    },
    {
      "metadata": {
        "id": "SKKxYuqbR7Zn",
        "colab_type": "code",
        "colab": {}
      },
      "cell_type": "code",
      "source": [
        "#It seems easier to do dummy variables when we convert train and test data set into one data set \n",
        "#convert train and test data set into one\n",
        "One_df=pd.concat((train_df, test_df), axis=0)"
      ],
      "execution_count": 0,
      "outputs": []
    },
    {
      "metadata": {
        "id": "0cOmrP56RyEy",
        "colab_type": "code",
        "outputId": "db56fe84-0703-4e1a-8ada-dd130e72f1de",
        "colab": {
          "base_uri": "https://localhost:8080/",
          "height": 34
        }
      },
      "cell_type": "code",
      "source": [
        "#See what the shape of data looks like\n",
        "One_df.shape"
      ],
      "execution_count": 0,
      "outputs": [
        {
          "output_type": "execute_result",
          "data": {
            "text/plain": [
              "(2919, 76)"
            ]
          },
          "metadata": {
            "tags": []
          },
          "execution_count": 6
        }
      ]
    },
    {
      "metadata": {
        "id": "nH07mKuJTwn7",
        "colab_type": "code",
        "colab": {}
      },
      "cell_type": "code",
      "source": [
        "#We can convert the object data type into numerical type by using get dummies\n",
        "One_df_dummy=pd.get_dummies(One_df)"
      ],
      "execution_count": 0,
      "outputs": []
    },
    {
      "metadata": {
        "id": "9VH-eAniVl4S",
        "colab_type": "code",
        "outputId": "0a9c7883-a403-4e10-d6cf-f2f3de5f2e08",
        "colab": {
          "base_uri": "https://localhost:8080/",
          "height": 102
        }
      },
      "cell_type": "code",
      "source": [
        "#See if the data is convert successful\n",
        "One_df_dummy.info()"
      ],
      "execution_count": 0,
      "outputs": [
        {
          "output_type": "stream",
          "text": [
            "<class 'pandas.core.frame.DataFrame'>\n",
            "Int64Index: 2919 entries, 0 to 1458\n",
            "Columns: 272 entries, 1stFlrSF to Utilities_NoSeWa\n",
            "dtypes: float64(12), int64(26), uint8(234)\n",
            "memory usage: 1.5 MB\n"
          ],
          "name": "stdout"
        }
      ]
    },
    {
      "metadata": {
        "id": "UJy88I60WGpK",
        "colab_type": "text"
      },
      "cell_type": "markdown",
      "source": [
        "# Go back to the process of add mean like before\n"
      ]
    },
    {
      "metadata": {
        "id": "i7bbLGyrX3pg",
        "colab_type": "code",
        "colab": {}
      },
      "cell_type": "code",
      "source": [
        "#fill in missing values with mean in data set\n",
        "One_mean = One_df_dummy.mean()\n",
        "\n"
      ],
      "execution_count": 0,
      "outputs": []
    },
    {
      "metadata": {
        "id": "Npsv3qlAaeUI",
        "colab_type": "code",
        "colab": {}
      },
      "cell_type": "code",
      "source": [
        "One_df_dummy_mean=One_df_dummy.fillna(One_mean)\n"
      ],
      "execution_count": 0,
      "outputs": []
    },
    {
      "metadata": {
        "id": "ku82_tlIauh9",
        "colab_type": "code",
        "outputId": "f639b7da-69fb-4c81-a2a0-332315ecda69",
        "colab": {
          "base_uri": "https://localhost:8080/",
          "height": 1071
        }
      },
      "cell_type": "code",
      "source": [
        "# See whether there is still missing value\n",
        "One_df_dummy_mean.isnull().sum()"
      ],
      "execution_count": 0,
      "outputs": [
        {
          "output_type": "execute_result",
          "data": {
            "text/plain": [
              "1stFlrSF                 0\n",
              "2ndFlrSF                 0\n",
              "3SsnPorch                0\n",
              "BedroomAbvGr             0\n",
              "BsmtFinSF1               0\n",
              "BsmtFinSF2               0\n",
              "BsmtFullBath             0\n",
              "BsmtHalfBath             0\n",
              "BsmtUnfSF                0\n",
              "EnclosedPorch            0\n",
              "Fireplaces               0\n",
              "FullBath                 0\n",
              "GarageArea               0\n",
              "GarageCars               0\n",
              "GarageYrBlt              0\n",
              "GrLivArea                0\n",
              "HalfBath                 0\n",
              "Id                       0\n",
              "KitchenAbvGr             0\n",
              "LotArea                  0\n",
              "LotFrontage              0\n",
              "LowQualFinSF             0\n",
              "MSSubClass               0\n",
              "MasVnrArea               0\n",
              "MiscVal                  0\n",
              "MoSold                   0\n",
              "OpenPorchSF              0\n",
              "OverallCond              0\n",
              "OverallQual              0\n",
              "PoolArea                 0\n",
              "                        ..\n",
              "RoofMatl_Metal           0\n",
              "RoofMatl_Roll            0\n",
              "RoofMatl_Tar&Grv         0\n",
              "RoofMatl_WdShake         0\n",
              "RoofMatl_WdShngl         0\n",
              "RoofStyle_Flat           0\n",
              "RoofStyle_Gable          0\n",
              "RoofStyle_Gambrel        0\n",
              "RoofStyle_Hip            0\n",
              "RoofStyle_Mansard        0\n",
              "RoofStyle_Shed           0\n",
              "SaleCondition_Abnorml    0\n",
              "SaleCondition_AdjLand    0\n",
              "SaleCondition_Alloca     0\n",
              "SaleCondition_Family     0\n",
              "SaleCondition_Normal     0\n",
              "SaleCondition_Partial    0\n",
              "SaleType_COD             0\n",
              "SaleType_CWD             0\n",
              "SaleType_Con             0\n",
              "SaleType_ConLD           0\n",
              "SaleType_ConLI           0\n",
              "SaleType_ConLw           0\n",
              "SaleType_New             0\n",
              "SaleType_Oth             0\n",
              "SaleType_WD              0\n",
              "Street_Grvl              0\n",
              "Street_Pave              0\n",
              "Utilities_AllPub         0\n",
              "Utilities_NoSeWa         0\n",
              "Length: 272, dtype: int64"
            ]
          },
          "metadata": {
            "tags": []
          },
          "execution_count": 11
        }
      ]
    },
    {
      "metadata": {
        "id": "nK_n7etFcLdB",
        "colab_type": "text"
      },
      "cell_type": "markdown",
      "source": [
        "We see all missing value is filled up with mean"
      ]
    },
    {
      "metadata": {
        "id": "ggCMDoc1bkn8",
        "colab_type": "text"
      },
      "cell_type": "markdown",
      "source": [
        "# We do the same things like before (do log to SalePrice)"
      ]
    },
    {
      "metadata": {
        "id": "HQXr7PWibjYF",
        "colab_type": "code",
        "outputId": "4380409c-a79d-4233-fa11-9153205140d0",
        "colab": {
          "base_uri": "https://localhost:8080/",
          "height": 378
        }
      },
      "cell_type": "code",
      "source": [
        "#see the distribution of salesprice with distribution plot\n",
        "sns.distplot(train_df['SalePrice'])"
      ],
      "execution_count": 0,
      "outputs": [
        {
          "output_type": "execute_result",
          "data": {
            "text/plain": [
              "<matplotlib.axes._subplots.AxesSubplot at 0x7fb68d216278>"
            ]
          },
          "metadata": {
            "tags": []
          },
          "execution_count": 12
        },
        {
          "output_type": "display_data",
          "data": {
            "image/png": "[encoded data removed]",
            "text/plain": [
              "<matplotlib.figure.Figure at 0x7fb68d27dc88>"
            ]
          },
          "metadata": {
            "tags": []
          }
        }
      ]
    },
    {
      "metadata": {
        "id": "P_niu0r_byv8",
        "colab_type": "code",
        "colab": {}
      },
      "cell_type": "code",
      "source": [
        "# Import numpy to do transfer the dataset into log \n",
        "import numpy as np\n",
        "Y_train=np.log1p(train_df['SalePrice'])"
      ],
      "execution_count": 0,
      "outputs": []
    },
    {
      "metadata": {
        "id": "9cLYs0Y4b3qO",
        "colab_type": "code",
        "outputId": "d433921d-47fb-4773-f685-665f119685a8",
        "colab": {
          "base_uri": "https://localhost:8080/",
          "height": 378
        }
      },
      "cell_type": "code",
      "source": [
        "#Now let's see the graph again\n",
        "sns.distplot(Y_train)"
      ],
      "execution_count": 0,
      "outputs": [
        {
          "output_type": "execute_result",
          "data": {
            "text/plain": [
              "<matplotlib.axes._subplots.AxesSubplot at 0x7fb68d20c128>"
            ]
          },
          "metadata": {
            "tags": []
          },
          "execution_count": 14
        },
        {
          "output_type": "display_data",
          "data": {
            "image/png": "[encoded data removed]",
            "text/plain": [
              "<matplotlib.figure.Figure at 0x7fb68d18dc50>"
            ]
          },
          "metadata": {
            "tags": []
          }
        }
      ]
    },
    {
      "metadata": {
        "id": "NFjaQ6U6ba-u",
        "colab_type": "text"
      },
      "cell_type": "markdown",
      "source": [
        "# Convert one_df_dummy_mean data back to train data and test data \n",
        "# Then assign it to X_train and X_test"
      ]
    },
    {
      "metadata": {
        "id": "vw_OtLmPbZ7B",
        "colab_type": "code",
        "colab": {}
      },
      "cell_type": "code",
      "source": [
        "train_df_dummy=One_df_dummy_mean[:train_df.shape[0]]\n",
        "test_df_dummy=One_df_dummy_mean[train_df.shape[0]:]"
      ],
      "execution_count": 0,
      "outputs": []
    },
    {
      "metadata": {
        "id": "9bkXaYp9bAfW",
        "colab_type": "code",
        "outputId": "16ed4d76-00c1-4b9f-dd4e-24fb6a46d5fc",
        "colab": {
          "base_uri": "https://localhost:8080/",
          "height": 34
        }
      },
      "cell_type": "code",
      "source": [
        "# See the shape of the data\n",
        "train_df_dummy.shape"
      ],
      "execution_count": 0,
      "outputs": [
        {
          "output_type": "execute_result",
          "data": {
            "text/plain": [
              "(1460, 272)"
            ]
          },
          "metadata": {
            "tags": []
          },
          "execution_count": 16
        }
      ]
    },
    {
      "metadata": {
        "id": "5CWGoA1Wc4gN",
        "colab_type": "code",
        "outputId": "eb99e82d-df58-4175-c30d-530dfb64d73d",
        "colab": {
          "base_uri": "https://localhost:8080/",
          "height": 34
        }
      },
      "cell_type": "code",
      "source": [
        "# See the shape of the data\n",
        "test_df_dummy.shape"
      ],
      "execution_count": 0,
      "outputs": [
        {
          "output_type": "execute_result",
          "data": {
            "text/plain": [
              "(1459, 272)"
            ]
          },
          "metadata": {
            "tags": []
          },
          "execution_count": 17
        }
      ]
    },
    {
      "metadata": {
        "id": "Bfh9odGtd9T-",
        "colab_type": "code",
        "colab": {}
      },
      "cell_type": "code",
      "source": [
        "# Assign train_df_dummy to X_train\n",
        "X_train=train_df_dummy"
      ],
      "execution_count": 0,
      "outputs": []
    },
    {
      "metadata": {
        "id": "zomhAioSd8EV",
        "colab_type": "code",
        "colab": {}
      },
      "cell_type": "code",
      "source": [
        "# Assign test_df_dummy to X_test\n",
        "X_test=test_df_dummy"
      ],
      "execution_count": 0,
      "outputs": []
    },
    {
      "metadata": {
        "id": "D7X-TRiE7qex",
        "colab_type": "text"
      },
      "cell_type": "markdown",
      "source": [
        "# Machine Learning Model again\n",
        "## Ridge Regression "
      ]
    },
    {
      "metadata": {
        "id": "mSffxywNeTG8",
        "colab_type": "code",
        "colab": {}
      },
      "cell_type": "code",
      "source": [
        "# load ridge regression method\n",
        "from sklearn.linear_model import Ridge \n",
        "# train and predict\n",
        "ridge = Ridge(alpha=1, normalize=True) \n",
        "ridge.fit(X_train, Y_train) \n",
        "\n",
        "# make the prediction\n",
        "ridge_pred = ridge.predict(X_test)\n",
        "Y_pred = np.expm1(ridge_pred)\n"
      ],
      "execution_count": 0,
      "outputs": []
    },
    {
      "metadata": {
        "id": "W785uORIc7Ee",
        "colab_type": "code",
        "outputId": "66de05bb-4118-443e-8c33-bb676f15021b",
        "colab": {
          "base_uri": "https://localhost:8080/",
          "height": 51
        }
      },
      "cell_type": "code",
      "source": [
        "# load tuning method GridSearchCV\n",
        "from sklearn.model_selection import GridSearchCV\n",
        "# choose parameters grid\n",
        "param_grid = {'alpha': np.arange(1, 100)}\n",
        "# Instantiate ridge regression\n",
        "ridge=Ridge()\n",
        "# Instantiate the GridSearchCV object: ridge_cv\n",
        "ridge_cv = GridSearchCV(ridge, param_grid, cv=10, scoring=\"neg_mean_squared_error\")\n",
        "\n",
        "# Fit it to the data\n",
        "ridge_cv.fit(X_train, Y_train)\n",
        "\n",
        "# Print the tuned parameters and score\n",
        "print(\"Tuned ridge Regression Parameters: {}\".format(ridge_cv.best_params_)) \n",
        "print(\"Best score is {}\".format(ridge_cv.best_score_))"
      ],
      "execution_count": 0,
      "outputs": [
        {
          "output_type": "stream",
          "text": [
            "Tuned ridge Regression Parameters: {'alpha': 5}\n",
            "Best score is -0.006970512870046685\n"
          ],
          "name": "stdout"
        }
      ]
    },
    {
      "metadata": {
        "id": "d2HQ1mdkp06Y",
        "colab_type": "text"
      },
      "cell_type": "markdown",
      "source": [
        "Now we have our best parameter which alpha=5, and best score of -0.00697\n",
        "\n",
        "We then plug it back to our ridge regression\n",
        "\n"
      ]
    },
    {
      "metadata": {
        "id": "VXOoSmbop0O0",
        "colab_type": "code",
        "colab": {}
      },
      "cell_type": "code",
      "source": [
        "# load ridge regression method\n",
        "from sklearn.linear_model import Ridge \n",
        "# train and predict\n",
        "ridge = Ridge(alpha=5, normalize=True) \n",
        "ridge.fit(X_train, Y_train) \n",
        "\n",
        "# make the prediction\n",
        "ridge_pred = ridge.predict(X_test)\n",
        "Y_pred = np.expm1(ridge_pred)\n"
      ],
      "execution_count": 0,
      "outputs": []
    },
    {
      "metadata": {
        "id": "ajMN3jgqq6dC",
        "colab_type": "code",
        "colab": {}
      },
      "cell_type": "code",
      "source": [
        "# prepare a submission file\n",
        "submission = pd.DataFrame({\n",
        "        \"Id\": test_df[\"Id\"],\n",
        "        \"SalePrice\": Y_pred\n",
        "    })\n",
        "submission.to_csv('fn2.csv', index=False)\n",
        "\n",
        "files.download('fn2.csv')"
      ],
      "execution_count": 0,
      "outputs": []
    },
    {
      "metadata": {
        "id": "24POYoUNzW4c",
        "colab_type": "text"
      },
      "cell_type": "markdown",
      "source": [
        "Kaggle score: 0.19523"
      ]
    },
    {
      "metadata": {
        "id": "uYbw_IdvlpgN",
        "colab_type": "text"
      },
      "cell_type": "markdown",
      "source": [
        "## Let's try different regression model \n",
        "## Second Method: Lasso Regression\n",
        "\n",
        "Lasso Regression uses L1 regulation techniques.It adds absolute value of magnitude of coefficient as penalty term to the loss function. Lasso works well for feature selection in case we have a huge number of features since Lasso shrinks less important feature's coefficient to zero which removes some feature altogether. "
      ]
    },
    {
      "metadata": {
        "id": "egaOGrY3loIl",
        "colab_type": "code",
        "colab": {}
      },
      "cell_type": "code",
      "source": [
        "# load Lasso regression method\n",
        "from sklearn.linear_model import Lasso \n",
        "# train and predict\n",
        "lasso = Lasso(alpha=0.1, normalize=False) \n",
        "lasso.fit(X_train, Y_train)\n",
        "\n",
        "#make the prediction\n",
        "lasso_pred = lasso.predict(X_test)\n",
        "Y_pred = np.expm1(lasso_pred)\n",
        "\n"
      ],
      "execution_count": 0,
      "outputs": []
    },
    {
      "metadata": {
        "id": "S2TL9rLwivMl",
        "colab_type": "text"
      },
      "cell_type": "markdown",
      "source": [
        "The lasso regression above is just testing whether the lasso regression works"
      ]
    },
    {
      "metadata": {
        "id": "OT9gPyp3nVf5",
        "colab_type": "text"
      },
      "cell_type": "markdown",
      "source": [
        "## Tuning for Lasso Regression with GridSearchCV\n"
      ]
    },
    {
      "metadata": {
        "id": "8zeWJDI1loWp",
        "colab_type": "code",
        "outputId": "4df6cdf9-097d-4c9d-aac3-0505cddf5144",
        "colab": {
          "base_uri": "https://localhost:8080/",
          "height": 50
        }
      },
      "cell_type": "code",
      "source": [
        "# load tuning method GridSearchCV\n",
        "from sklearn.model_selection import GridSearchCV\n",
        "# choose parameters grid\n",
        "param_grid = {'alpha': np.arange(1, 100)}\n",
        "# Instantiate ridge regression\n",
        "lasso=Lasso()\n",
        "# Instantiate the GridSearchCV object: ridge_cv\n",
        "lasso_cv = GridSearchCV(lasso, param_grid, cv=10, scoring=\"neg_mean_squared_error\")\n",
        "\n",
        "# Fit it to the data\n",
        "lasso_cv.fit(X_train, Y_train)\n",
        "\n",
        "# Print the tuned parameters and score\n",
        "print(\"Tuned Lasso Regression Parameters: {}\".format(lasso_cv.best_params_)) \n",
        "print(\"Best score is {}\".format(lasso_cv.best_score_))"
      ],
      "execution_count": 0,
      "outputs": [
        {
          "output_type": "stream",
          "text": [
            "Tuned Lasso Regression Parameters: {'alpha': 1}\n",
            "Best score is -0.01498752467336129\n"
          ],
          "name": "stdout"
        }
      ]
    },
    {
      "metadata": {
        "id": "04HLhE9Hgtn7",
        "colab_type": "text"
      },
      "cell_type": "markdown",
      "source": [
        "We have best parameters which alpha=1, and best score of -0.0149875\n",
        "\n",
        "We then plug the alpha back into lasso regression"
      ]
    },
    {
      "metadata": {
        "id": "Sls43uoTgsyR",
        "colab_type": "code",
        "colab": {}
      },
      "cell_type": "code",
      "source": [
        "# load Lasso regression method\n",
        "from sklearn.linear_model import Lasso \n",
        "# train and predict\n",
        "lasso = Lasso(alpha=1, normalize=False) \n",
        "lasso.fit(X_train, Y_train)\n",
        "\n",
        "#make the prediction\n",
        "lasso_pred = lasso.predict(X_test)\n",
        "Y_pred = np.expm1(lasso_pred)"
      ],
      "execution_count": 0,
      "outputs": []
    },
    {
      "metadata": {
        "id": "pikRy4ydhGbN",
        "colab_type": "code",
        "colab": {}
      },
      "cell_type": "code",
      "source": [
        "# prepare a submission file\n",
        "submission = pd.DataFrame({\n",
        "        \"Id\": test_df[\"Id\"],\n",
        "        \"SalePrice\": Y_pred\n",
        "    })\n",
        "submission.to_csv('fn3.csv', index=False)\n",
        "\n",
        "files.download('fn3.csv')"
      ],
      "execution_count": 0,
      "outputs": []
    },
    {
      "metadata": {
        "id": "XdumNilmj9zM",
        "colab_type": "text"
      },
      "cell_type": "markdown",
      "source": [
        "Kaggle Score: 0.38465"
      ]
    },
    {
      "metadata": {
        "id": "_hpWCGxUkhKL",
        "colab_type": "text"
      },
      "cell_type": "markdown",
      "source": [
        "## Let's try different method\n",
        "## Third Method: Decision Tree\n",
        "\n",
        "Decision tree is the most powerful and popular tool for classification and prediction. It is a flowchart like tree structure, where each internal node denotes a test on an attribute, each branch represents an outcome of the test, and each leaf node holds a class label. In this project, trees (regression trees) predict continuous values like price of a house in our project."
      ]
    },
    {
      "metadata": {
        "id": "Wa6EwSIblvXC",
        "colab_type": "code",
        "colab": {}
      },
      "cell_type": "code",
      "source": [
        "# load decision tree method\n",
        "from sklearn.tree import DecisionTreeRegressor\n",
        "dt = DecisionTreeRegressor (random_state = 1)\n",
        "# random_state is the seed for the random number generator. \n",
        "# If we all have 1, then we all have the same results\n",
        "# Important for replicability of the results\n",
        "\n",
        "# train and predict \n",
        "dt.fit(X_train, Y_train)\n",
        "Y_pred = dt.predict(X_test)"
      ],
      "execution_count": 0,
      "outputs": []
    },
    {
      "metadata": {
        "id": "BictnQ9RBIio",
        "colab_type": "text"
      },
      "cell_type": "markdown",
      "source": [
        "Again, the Decision Tree above is for testing whether it is able to run our data sucessfully,\n",
        "\n",
        "We will use tune to find the best parameters and do the Decision Tree method and prediction in tne same time"
      ]
    },
    {
      "metadata": {
        "id": "C3675kh9nnAN",
        "colab_type": "text"
      },
      "cell_type": "markdown",
      "source": [
        "## Tuning for Decision Tree with GridSearchCV\n",
        "## Also fit the Decision Tree method and predict\n"
      ]
    },
    {
      "metadata": {
        "id": "-yE3L8uhnNHd",
        "colab_type": "code",
        "colab": {}
      },
      "cell_type": "code",
      "source": [
        "# load decision tree method\n",
        "from sklearn.tree import DecisionTreeRegressor\n",
        "dt = DecisionTreeRegressor (random_state = 1)\n",
        "# Import GridSearchCV\n",
        "from sklearn.model_selection import GridSearchCV\n",
        "\n",
        "# Define your grid of hyperparameters\n",
        "params_dt = {\n",
        "'max_depth': [3, 4, 5, 6],\n",
        "'min_samples_leaf': [0.04, 0.06, 0.08],\n",
        "'max_features': [0.2, 0.4,0.6, 0.8]\n",
        "}\n",
        "\n",
        "# Start a 10-fold CV grid search \n",
        "grid_dt = GridSearchCV(estimator=dt,\n",
        "param_grid=params_dt,\n",
        "scoring='neg_mean_squared_error',\n",
        "cv=10,\n",
        "n_jobs=-1)\n",
        "\n",
        "\n",
        "#Fit grid_dt to the training data\n",
        "grid_dt.fit(X_train, Y_train)\n",
        "\n",
        "\n",
        "# predict with the best estimators\n",
        "Yy_pred = grid_dt.best_estimator_.predict(X_test)\n",
        "Y_pred = np.expm1(Yy_pred)\n"
      ],
      "execution_count": 0,
      "outputs": []
    },
    {
      "metadata": {
        "id": "rIqT4XcB1p2u",
        "colab_type": "code",
        "outputId": "2b6a76f9-8703-4e85-f6c5-82f8414b5c07",
        "colab": {
          "base_uri": "https://localhost:8080/",
          "height": 34
        }
      },
      "cell_type": "code",
      "source": [
        "# we can check the best hyperparameter values and fine-tune even more if necessary\n",
        "grid_dt.best_params_"
      ],
      "execution_count": 0,
      "outputs": [
        {
          "output_type": "execute_result",
          "data": {
            "text/plain": [
              "{'max_depth': 6, 'max_features': 0.8, 'min_samples_leaf': 0.04}"
            ]
          },
          "metadata": {
            "tags": []
          },
          "execution_count": 23
        }
      ]
    },
    {
      "metadata": {
        "id": "BJ7c3Gnj1rBi",
        "colab_type": "code",
        "colab": {}
      },
      "cell_type": "code",
      "source": [
        "# prepare a submission file\n",
        "submission = pd.DataFrame({\n",
        "        \"Id\": test_df[\"Id\"],\n",
        "        \"SalePrice\": Y_pred\n",
        "    })\n",
        "submission.to_csv('fn4.csv', index=False)\n",
        "\n",
        "files.download('fn4.csv')"
      ],
      "execution_count": 0,
      "outputs": []
    },
    {
      "metadata": {
        "id": "bdw-qSt586GG",
        "colab_type": "text"
      },
      "cell_type": "markdown",
      "source": [
        "Kaggle Score: 0.43094"
      ]
    },
    {
      "metadata": {
        "id": "dGUmBuE3qRri",
        "colab_type": "text"
      },
      "cell_type": "markdown",
      "source": [
        "## Fourth Method: Random Forest\n",
        "We use random forest because it reduce variance through bagging algorithm. Usually, it is highly desirable for the model to be stable. This is because Decision Tree is really sensitive if our data is a little different. However, Random Forest can solve this issue."
      ]
    },
    {
      "metadata": {
        "id": "sjv-oEGHqQyC",
        "colab_type": "code",
        "outputId": "7b75f7e0-79f3-4894-8681-3f1f32838e29",
        "colab": {
          "base_uri": "https://localhost:8080/",
          "height": 34
        }
      },
      "cell_type": "code",
      "source": [
        "from sklearn.ensemble import RandomForestRegressor\n",
        "rf = RandomForestRegressor(n_estimators=100)\n",
        "rf.fit(X_train, Y_train)\n",
        "Y_pred = rf.predict(X_test)\n",
        "\n",
        "dt.score(X_train, Y_train, sample_weight=None)"
      ],
      "execution_count": 0,
      "outputs": [
        {
          "output_type": "execute_result",
          "data": {
            "text/plain": [
              "0.9999999018376117"
            ]
          },
          "metadata": {
            "tags": []
          },
          "execution_count": 27
        }
      ]
    },
    {
      "metadata": {
        "id": "feP92k2WBfyA",
        "colab_type": "code",
        "colab": {}
      },
      "cell_type": "code",
      "source": [
        "Again, the Random Forest above is for testing whether it is able to run our data sucessfully,\n",
        "\n",
        "We will use tune to find the best parameters and do the Random Forest method and prediction in tne same time"
      ],
      "execution_count": 0,
      "outputs": []
    },
    {
      "metadata": {
        "id": "0HHhY-H5An9p",
        "colab_type": "text"
      },
      "cell_type": "markdown",
      "source": [
        "## Tuning for Random Forest with GridSearchCV\n",
        "## Also fit the Random Forest method and predict"
      ]
    },
    {
      "metadata": {
        "id": "6CsYaac6BDcz",
        "colab_type": "code",
        "colab": {}
      },
      "cell_type": "code",
      "source": [
        "# check out random forest hyperparameters\n",
        "print(rf.get_params())"
      ],
      "execution_count": 0,
      "outputs": []
    },
    {
      "metadata": {
        "id": "-n-fVs7rq-QD",
        "colab_type": "code",
        "colab": {}
      },
      "cell_type": "code",
      "source": [
        "from sklearn.ensemble import RandomForestRegressor\n",
        "rf = RandomForestRegressor(n_estimators=100)\n",
        "# import GridSearchCV\n",
        "from sklearn.model_selection import GridSearchCV\n",
        "\n",
        "# define your grid of hyperparameters\n",
        "params_rf = {\n",
        "'n_estimators': [1,3, 5, 10],\n",
        "'max_depth': [2, 3, 4, 5, 20, 32],\n",
        "'min_samples_leaf': [1, 5, 8 , 3],\n",
        "'max_features': ['log2', 'sqrt']\n",
        "}\n",
        "\n",
        "# start a 10-fold CV grid search\n",
        "grid_rf = GridSearchCV(estimator=rf,\n",
        "param_grid=params_rf,\n",
        "scoring='neg_mean_squared_error',\n",
        "cv=10,\n",
        "n_jobs=-1)\n",
        "\n",
        "# fit 'grid_dt' to the training data\n",
        "# training our model may take a while!\n",
        "grid_rf.fit(X_train, Y_train)\n",
        "Yy_pred = grid_rf.best_estimator_.predict(X_test)\n",
        "Y_pred = np.expm1(Yy_pred)\n"
      ],
      "execution_count": 0,
      "outputs": []
    },
    {
      "metadata": {
        "id": "_fHr59iT--9I",
        "colab_type": "code",
        "colab": {}
      },
      "cell_type": "code",
      "source": [
        "# prepare a submission file\n",
        "submission = pd.DataFrame({\n",
        "        \"Id\": test_df[\"Id\"],\n",
        "        \"SalePrice\": Y_pred\n",
        "    })\n",
        "submission.to_csv('fn5.csv', index=False)\n",
        "\n",
        "files.download('fn5.csv')"
      ],
      "execution_count": 0,
      "outputs": []
    },
    {
      "metadata": {
        "id": "H3qzti0OGkB7",
        "colab_type": "text"
      },
      "cell_type": "markdown",
      "source": [
        "Kaggle Score: 0.21247"
      ]
    },
    {
      "metadata": {
        "id": "QagFLziurgll",
        "colab_type": "text"
      },
      "cell_type": "markdown",
      "source": [
        "## Fifth Method: XGboost\n",
        "\n",
        "XGBoost is a library designed and optimized for boosted tree algorithms. It's main goal is to push the extreme of the computation limits of machines to provide a scalable, portable and accurate for large scale tree boosting.\n",
        "\n",
        "## Tuning for XGboost with GridSearchCV\n",
        "## Also fit the XGboost method and predict"
      ]
    },
    {
      "metadata": {
        "id": "H6JqjQWWsBhK",
        "colab_type": "code",
        "outputId": "ac8fd76e-0b00-4bef-9ce0-463c7c3a79dd",
        "colab": {
          "base_uri": "https://localhost:8080/",
          "height": 85
        }
      },
      "cell_type": "code",
      "source": [
        "import pandas as pd\n",
        "import xgboost as xgb\n",
        "from sklearn.model_selection import GridSearchCV\n",
        "\n",
        "xgbr_param_grid = {'learning_rate': [0.01,0.1,0.5,0.9], 'n_estimators': [200], 'subsample': [0.3, 0.5, 0.9]}\n",
        "xgbr = xgb.XGBRegressor()\n",
        "grid_mse = GridSearchCV(estimator=xgbr, param_grid=xgbr_param_grid, scoring='neg_mean_squared_error', cv=10, verbose=1)\n",
        "grid_mse.fit(X_train, Y_train)\n",
        "\n",
        "Yy_pred = grid_mse.best_estimator_.predict(X_test)\n",
        "Y_pred = np.expm1(Yy_pred)\n",
        "\n",
        "\n",
        "print(\"Best parameters found: \",grid_mse.best_params_)  "
      ],
      "execution_count": 0,
      "outputs": [
        {
          "output_type": "stream",
          "text": [
            "Fitting 10 folds for each of 12 candidates, totalling 120 fits\n"
          ],
          "name": "stdout"
        },
        {
          "output_type": "stream",
          "text": [
            "[Parallel(n_jobs=1)]: Using backend SequentialBackend with 1 concurrent workers.\n",
            "[Parallel(n_jobs=1)]: Done 120 out of 120 | elapsed:  4.2min finished\n"
          ],
          "name": "stderr"
        },
        {
          "output_type": "stream",
          "text": [
            "Best parameters found:  {'learning_rate': 0.1, 'n_estimators': 200, 'subsample': 0.9}\n"
          ],
          "name": "stdout"
        }
      ]
    },
    {
      "metadata": {
        "id": "2-2hchsSAKPB",
        "colab_type": "code",
        "colab": {}
      },
      "cell_type": "code",
      "source": [
        "# prepare a submission file\n",
        "submission = pd.DataFrame({\n",
        "        \"Id\": test_df[\"Id\"],\n",
        "        \"SalePrice\": Y_pred\n",
        "    })\n",
        "submission.to_csv('fn6.csv', index=False)\n",
        "\n",
        "files.download('fn6.csv')"
      ],
      "execution_count": 0,
      "outputs": []
    },
    {
      "metadata": {
        "id": "MP0ivesXGKZE",
        "colab_type": "text"
      },
      "cell_type": "markdown",
      "source": [
        "Kaggle Score: 0.42653"
      ]
    }
  ]
}